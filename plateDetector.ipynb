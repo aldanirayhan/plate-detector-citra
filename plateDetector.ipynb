{
 "cells": [
  {
   "cell_type": "code",
   "execution_count": null,
   "id": "5107b649-a519-4da5-b829-a1ea79877fc3",
   "metadata": {},
   "outputs": [],
   "source": [
    "# Import Dependencies\n",
    "import cv2\n",
    "from matplotlib import pyplot as plt\n",
    "import numpy as np\n",
    "import imutils\n",
    "import easyocr"
   ]
  },
  {
   "cell_type": "code",
   "execution_count": null,
   "id": "17e751de-3684-4ce9-ad58-4e5b9693fe76",
   "metadata": {},
   "outputs": [],
   "source": [
    "# Read Image, Grayscale\n",
    "img = cv2.imread('static/image/g1.jpg')\n",
    "gray = cv2.cvtColor(img, cv2.COLOR_BGR2GRAY)\n",
    "plt.imshow(cv2.cvtColor(gray, cv2.COLOR_BGR2RGB))"
   ]
  },
  {
   "cell_type": "code",
   "execution_count": null,
   "id": "6719cf6a-4210-473a-a426-dd1cf86c74cb",
   "metadata": {},
   "outputs": [],
   "source": [
    "# Apply Filter and Find Edges for Localization\n",
    "bfilter = cv2.bilateralFilter(gray, 11, 17, 17) #Noise Reduction\n",
    "edged = cv2.Canny(bfilter, 30, 200) #Edge detection\n",
    "plt.imshow(cv2.cvtColor(edged, cv2.COLOR_BGR2RGB))"
   ]
  },
  {
   "cell_type": "code",
   "execution_count": null,
   "id": "1961828f-f811-496f-9e41-81362861e54e",
   "metadata": {},
   "outputs": [],
   "source": [
    "# Find Contours\n",
    "keypoints = cv2.findContours(edged.copy(), cv2.RETR_TREE, cv2.CHAIN_APPROX_SIMPLE)\n",
    "contours = imutils.grab_contours(keypoints)\n",
    "contours = sorted(contours, key=cv2.contourArea, reverse=True)[:10]"
   ]
  },
  {
   "cell_type": "code",
   "execution_count": null,
   "id": "30d0ff07-bf45-45bc-b892-a8ff3ee6a47c",
   "metadata": {},
   "outputs": [],
   "source": [
    "location = None\n",
    "for contour in contours:\n",
    "    approx = cv2.approxPolyDP(contour, 10, True)\n",
    "    if len(approx) == 4:\n",
    "        location = approx\n",
    "        break"
   ]
  },
  {
   "cell_type": "code",
   "execution_count": null,
   "id": "2ae53734-40fa-414e-a9b9-3e4b0778f7c9",
   "metadata": {},
   "outputs": [],
   "source": [
    "location"
   ]
  },
  {
   "cell_type": "code",
   "execution_count": null,
   "id": "617b19d6-2d3c-4fb8-bb4a-329bcbb7dc11",
   "metadata": {},
   "outputs": [],
   "source": [
    "# Apply Mask\n",
    "mask = np.zeros(gray.shape, np.uint8)\n",
    "new_image = cv2.drawContours(mask, [location], 0,255,-1)\n",
    "new_image = cv2.bitwise_and(img, img, mask=mask)"
   ]
  },
  {
   "cell_type": "code",
   "execution_count": null,
   "id": "456bdd70-5f2f-4f47-a06c-dba3bd7ded0e",
   "metadata": {},
   "outputs": [],
   "source": [
    "plt.imshow(cv2.cvtColor(new_image, cv2.COLOR_BGR2RGB))"
   ]
  },
  {
   "cell_type": "code",
   "execution_count": null,
   "id": "9c388b85-c46e-4da1-bd46-f1c7cb9ef1eb",
   "metadata": {},
   "outputs": [],
   "source": [
    "(x, y) = np.where(mask==255)\n",
    "(x1, y1) = (np.min(x), np.min(y))\n",
    "(x2, y2) = (np.max(x), np.max(y))\n",
    "cropped_image = gray[x1:x2+1, y1:y2+1]"
   ]
  },
  {
   "cell_type": "code",
   "execution_count": null,
   "id": "da4f4b8a-cf83-46ab-8a59-e776c6b31d31",
   "metadata": {},
   "outputs": [],
   "source": [
    "plt.imshow(cv2.cvtColor(cropped_image, cv2.COLOR_BGR2RGB))"
   ]
  },
  {
   "cell_type": "code",
   "execution_count": null,
   "id": "5f1150b4-3809-415a-8b1b-0d48f05d10e9",
   "metadata": {},
   "outputs": [],
   "source": [
    "# EasyOCR to Read Text\n",
    "reader = easyocr.Reader(['id'])\n",
    "result = reader.readtext(cropped_image)\n",
    "result"
   ]
  },
  {
   "cell_type": "code",
   "execution_count": null,
   "id": "0eb95e47-ad20-4260-b674-a805cbd8e58a",
   "metadata": {},
   "outputs": [],
   "source": [
    "text = result[0][-2]\n",
    "font = cv2.FONT_HERSHEY_SIMPLEX\n",
    "res = cv2.putText(img, text=text, org=(approx[0][0][0], approx[1][0][1]+60), fontFace=font, fontScale=1, color=(0, 255, 0), thickness=2, lineType=cv2.LINE_AA)\n",
    "res = cv2.rectangle(img, tuple(approx[0][0]), tuple(approx[2][0]), (0,255,0), 3)\n",
    "plt.imshow(cv2.cvtColor(res, cv2.COLOR_BGR2RGB))"
   ]
  }
 ],
 "metadata": {
  "kernelspec": {
   "display_name": "Python 3",
   "language": "python",
   "name": "python3"
  },
  "language_info": {
   "codemirror_mode": {
    "name": "ipython",
    "version": 3
   },
   "file_extension": ".py",
   "mimetype": "text/x-python",
   "name": "python",
   "nbconvert_exporter": "python",
   "pygments_lexer": "ipython3",
   "version": "3.11.4"
  }
 },
 "nbformat": 4,
 "nbformat_minor": 5
}
